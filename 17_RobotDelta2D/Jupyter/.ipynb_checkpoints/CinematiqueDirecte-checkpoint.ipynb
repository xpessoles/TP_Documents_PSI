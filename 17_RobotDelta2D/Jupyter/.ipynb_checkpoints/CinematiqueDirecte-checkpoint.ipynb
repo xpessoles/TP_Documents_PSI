{
 "cells": [
  {
   "cell_type": "code",
   "execution_count": 36,
   "id": "5e884ecc",
   "metadata": {},
   "outputs": [],
   "source": [
    "import numpy as np\n",
    "import matplotlib.pyplot as plt\n",
    "from scipy.optimize import fsolve"
   ]
  },
  {
   "cell_type": "markdown",
   "id": "617482b4",
   "metadata": {},
   "source": [
    "# Paramètrage géométrique\n",
    "\n",
    "La position du point $F=(x,y)$ est donnée par le système d'équation suivant :\n",
    "$$\n",
    "\\left\\{\n",
    "\\begin{array}{l}\n",
    "L^2 = x^2  +a^2+\\ell^2  -2xa -2x\\ell\\cos\\theta_d+2a\\ell\\cos\\theta_d  +  y^2 - 2y \\ell   \\sin\\theta_d  \\\\\n",
    "L^2 = x^2  +a^2+\\ell^2 +2xa -2x\\ell\\cos\\theta_g-2a\\ell\\cos\\theta_g  +  y^2  -2y  \\ell   \\sin\\theta_g \n",
    "\\end{array}\n",
    "\\right. .\n",
    "$$ \n"
   ]
  },
  {
   "cell_type": "code",
   "execution_count": 86,
   "id": "50ac4d89",
   "metadata": {},
   "outputs": [],
   "source": [
    "L = 350 # mm\n",
    "l = 170 # mm\n",
    "a = 60  # mm\n",
    "\n",
    "sol_ini = [0,-300]\n",
    "theta_g_0 = np.radians(-90-30)\n",
    "theta_g_f = np.radians(-90-30-60)\n",
    "\n",
    "theta_d_0 = np.radians(-90+30)\n",
    "theta_d_f = np.radians(-90+30+60)\n",
    "\n",
    "les_theta_g = np.linspace(theta_g_0,theta_g_f,100)\n",
    "les_theta_d = np.linspace(theta_d_0,theta_d_f,100)\n"
   ]
  },
  {
   "cell_type": "markdown",
   "id": "40e152c1",
   "metadata": {},
   "source": [
    "### Affichage des angles"
   ]
  },
  {
   "cell_type": "code",
   "execution_count": 81,
   "id": "d96ed499",
   "metadata": {},
   "outputs": [
    {
     "data": {
      "text/plain": [
       "<matplotlib.legend.Legend at 0x1dfa0baf3d0>"
      ]
     },
     "execution_count": 81,
     "metadata": {},
     "output_type": "execute_result"
    },
    {
     "data": {
      "image/png": "[encoded data removed]",
      "text/plain": [
       "<Figure size 432x288 with 1 Axes>"
      ]
     },
     "metadata": {
      "needs_background": "light"
     },
     "output_type": "display_data"
    }
   ],
   "source": [
    "plt.plot(np.degrees(les_theta_g),label = \"$\\\\theta_g$ [deg]\")\n",
    "plt.plot(np.degrees(les_theta_d),label = \"$\\\\theta_d$ [deg]\")\n",
    "plt.grid()\n",
    "plt.legend()"
   ]
  },
  {
   "cell_type": "markdown",
   "id": "20f8bd87",
   "metadata": {},
   "source": [
    "### Mouvement des points $D$ et $E$\n",
    "On $\\overrightarrow{OE} = -a\\overrightarrow{x_0}+\\ell \\overrightarrow{x_1'} = -a\\overrightarrow{x_0}+\\ell \\left(\\cos\\theta_g'\\overrightarrow{x_0} +\\sin\\theta_g'\\overrightarrow{y_0} \\right)$"
   ]
  },
  {
   "cell_type": "code",
   "execution_count": 82,
   "id": "c0fa0e15",
   "metadata": {},
   "outputs": [
    {
     "data": {
      "image/png": "[encoded data removed]",
      "text/plain": [
       "<Figure size 432x288 with 1 Axes>"
      ]
     },
     "metadata": {
      "needs_background": "light"
     },
     "output_type": "display_data"
    }
   ],
   "source": [
    "def calc_E(theta_g):\n",
    "    xE = -a +l*np.cos(theta_g)\n",
    "    yE = l*np.sin(theta_g)\n",
    "    return (xE,yE)\n",
    "def calc_D(theta_d):\n",
    "    xD = a +l*np.cos(theta_d)\n",
    "    yD = l*np.sin(theta_d)\n",
    "    return (xD,yD)\n",
    "les_xE = [calc_E(t)[0] for t in les_theta_g]\n",
    "les_yE = [calc_E(t)[1] for t in les_theta_g]\n",
    "\n",
    "les_xD = [calc_D(t)[0] for t in les_theta_d]\n",
    "les_yD = [calc_D(t)[1] for t in les_theta_d]\n",
    "\n",
    "plt.plot(les_xE,les_yE,\"g\")\n",
    "plt.plot(les_xD,les_yD,\"g\")\n",
    "plt.plot([0],[0],\"rs\")\n",
    "plt.plot([-a],[0],\"bs\")\n",
    "plt.plot([a],[0],\"bs\")\n",
    "\n",
    "plt.plot(les_xE[0],les_yE[0],\"g.\")\n",
    "plt.plot(les_xE[-1],les_yE[-1],\"g*\")\n",
    "plt.plot(les_xD[0],les_yD[0],\"g.\")\n",
    "plt.plot(les_xD[-1],les_yD[-1],\"g*\")\n",
    "plt.axis(\"equal\")\n",
    "plt.grid()\n",
    "plt.show()"
   ]
  },
  {
   "cell_type": "code",
   "execution_count": 83,
   "id": "922b2463",
   "metadata": {},
   "outputs": [],
   "source": [
    "def f(y):\n",
    "    xnum = a*l*(np.cos(theta_d)+np.cos(theta_g)) + y*l*(np.sin(theta_g) -np.sin(theta_d))\n",
    "    xden = 2*a -l*(- np.cos(theta_d)+ np.cos(theta_g))\n",
    "    x = xnum/xden\n",
    "    return x**2 + a**2 + l**2 - 2*x*a -2*x*l*np.cos(theta_d)+2*a*l*np.cos(theta_d) + y**2 -2*y*l*np.sin(theta_d) -L**2\n",
    "\n",
    "def calc_x(y) :\n",
    "    xnum = a*l*(np.cos(theta_d)+np.cos(theta_g)) + y*l*(np.sin(theta_g) -np.sin(theta_d))\n",
    "    xden = 2*a -l*(- np.cos(theta_d)+ np.cos(theta_g))\n",
    "    x = xnum/xden\n",
    "    return x\n",
    "\n",
    "def solve_directe():\n",
    "    les_x = []\n",
    "    les_y = []\n",
    "    sol_ini = -200\n",
    "    for i in range(len(les_theta_g)):\n",
    "        global theta_d,theta_g\n",
    "        theta_d = les_theta_d[i]\n",
    "        theta_g = les_theta_g[i]\n",
    "        sol = fsolve(f,sol_ini)\n",
    "        sol_ini = sol[0]\n",
    "        les_y.append(sol[0])\n",
    "        les_x.append(calc_x(sol_ini))\n",
    "        \n",
    "    return les_x,les_y\n",
    "\n",
    "les_xF,les_yF = solve_directe()\n"
   ]
  },
  {
   "cell_type": "code",
   "execution_count": 84,
   "id": "e0c29260",
   "metadata": {},
   "outputs": [
    {
     "data": {
      "text/plain": [
       "<matplotlib.legend.Legend at 0x1dfa0cbdbb0>"
      ]
     },
     "execution_count": 84,
     "metadata": {},
     "output_type": "execute_result"
    },
    {
     "data": {
      "image/png": "[encoded data removed]",
      "text/plain": [
       "<Figure size 432x288 with 1 Axes>"
      ]
     },
     "metadata": {
      "needs_background": "light"
     },
     "output_type": "display_data"
    }
   ],
   "source": [
    "plt.plot(les_xF,label=\"$X_F$\")\n",
    "plt.plot(les_yF,label=\"$Y_F$\")\n",
    "plt.legend()"
   ]
  },
  {
   "cell_type": "code",
   "execution_count": 85,
   "id": "50e5450e",
   "metadata": {},
   "outputs": [
    {
     "data": {
      "image/png": "[encoded data removed]",
      "text/plain": [
       "<Figure size 432x288 with 1 Axes>"
      ]
     },
     "metadata": {
      "needs_background": "light"
     },
     "output_type": "display_data"
    }
   ],
   "source": [
    "plt.plot(les_xE,les_yE,\"g\")\n",
    "plt.plot(les_xD,les_yD,\"g\")\n",
    "plt.plot([0],[0],\"rs\")\n",
    "plt.plot([-a],[0],\"bs\")\n",
    "plt.plot([a],[0],\"bs\")\n",
    "\n",
    "plt.plot(les_xE[0],les_yE[0],\"g.\")\n",
    "plt.plot(les_xE[-1],les_yE[-1],\"g*\")\n",
    "plt.plot(les_xD[0],les_yD[0],\"g.\")\n",
    "plt.plot(les_xD[-1],les_yD[-1],\"g*\")\n",
    "\n",
    "plt.plot(les_xF,les_yF,\"darkorange\")\n",
    "plt.plot(les_xF[0],les_yF[0],\".\",color=\"darkorange\")\n",
    "plt.plot(les_xF[-1],les_yF[-1],\"*\",color=\"darkorange\")\n",
    "\n",
    "plt.axis(\"equal\")\n",
    "plt.grid()\n",
    "plt.show()\n",
    "\n"
   ]
  },
  {
   "cell_type": "code",
   "execution_count": null,
   "id": "b66d80cc",
   "metadata": {},
   "outputs": [],
   "source": []
  },
  {
   "cell_type": "code",
   "execution_count": null,
   "id": "2d5415d5",
   "metadata": {},
   "outputs": [],
   "source": []
  }
 ],
 "metadata": {
  "kernelspec": {
   "display_name": "Python 3",
   "language": "python",
   "name": "python3"
  },
  "language_info": {
   "codemirror_mode": {
    "name": "ipython",
    "version": 3
   },
   "file_extension": ".py",
   "mimetype": "text/x-python",
   "name": "python",
   "nbconvert_exporter": "python",
   "pygments_lexer": "ipython3",
   "version": "3.8.5"
  }
 },
 "nbformat": 4,
 "nbformat_minor": 5
}
