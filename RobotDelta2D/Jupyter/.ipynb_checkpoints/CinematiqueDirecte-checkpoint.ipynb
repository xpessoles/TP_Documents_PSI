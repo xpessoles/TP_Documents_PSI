{
 "cells": [
  {
   "cell_type": "code",
   "execution_count": 3,
   "id": "c8c3288b",
   "metadata": {},
   "outputs": [],
   "source": [
    "import numpy as np\n",
    "import matplotlib.pyplot as plt\n",
    "from scipy.optimize import fsolve\n"
   ]
  },
  {
   "cell_type": "markdown",
   "id": "27157ec5",
   "metadata": {},
   "source": [
    "# Paramètrage géométrique\n",
    "\n",
    "La position du point $F=(x,y)$ est donnée par le système d'équation suivant :\n",
    "$$\n",
    "\\left\\{\n",
    "\\begin{array}{l}\n",
    "L^2 = x^2  +a^2+\\ell^2  -2xa -2x\\ell\\cos\\theta_d+2a\\ell\\cos\\theta_d  +  y^2 - 2y \\ell   \\sin\\theta_d  \\\\\n",
    "L^2 = x^2  +a^2+\\ell^2 +2xa -2x\\ell\\cos\\theta_g-2a\\ell\\cos\\theta_g  +  y^2  -2y  \\ell   \\sin\\theta_g \n",
    "\\end{array}\n",
    "\\right. .\n",
    "$$ \n"
   ]
  },
  {
   "cell_type": "code",
   "execution_count": 15,
   "id": "c1f85253",
   "metadata": {},
   "outputs": [
    {
     "data": {
      "text/plain": [
       "<matplotlib.legend.Legend at 0x1c529e2a730>"
      ]
     },
     "execution_count": 15,
     "metadata": {},
     "output_type": "execute_result"
    },
    {
     "data": {
      "image/png": "[encoded data removed]",
      "text/plain": [
       "<Figure size 432x288 with 1 Axes>"
      ]
     },
     "metadata": {
      "needs_background": "light"
     },
     "output_type": "display_data"
    }
   ],
   "source": [
    "L = 350 # mm\n",
    "l = 170 # mm\n",
    "a = 60  # mm\n",
    "\n",
    "sol_ini = [0,-300]\n",
    "theta_g_0 = np.radians(-60)\n",
    "theta_g_f = np.radians(60)\n",
    "\n",
    "theta_d_0 = np.radians(240)\n",
    "theta_d_f = np.radians(120)\n",
    "\n",
    "les_theta_g = np.linspace(theta_g_0,theta_g_f,1000)\n",
    "les_theta_d = np.linspace(theta_d_0,theta_d_f,1000)\n",
    "\n",
    "def f(X):\n",
    "    x = X[0]\n",
    "    y = X[1]\n",
    "    Y = [x**2 + a**2 + l**2 - 2*x*a -2*x*l*np.cos(theta_d)+2*a*l*np.cos(theta_d) + y**2 -2*y*l*np.sin(theta_d) -L**2,\\\n",
    "    x**2 + a**2 + l**2 + 2*x*a -2*x*l*np.cos(theta_g)-2*a*l*np.cos(theta_g) + y**2 -2*y*l*np.sin(theta_g) -L**2]\n",
    "    return Y\n",
    "\n",
    "def solve_directe():\n",
    "    les_x = []\n",
    "    les_y = []\n",
    "    for i in range(len(les_theta_g)):\n",
    "        global theta_d,theta_g\n",
    "        theta_d = les_theta_d[i]\n",
    "        theta_g = les_theta_g[i]\n",
    "        sol = fsolve(f,sol_ini)\n",
    "        les_x.append(sol[0])\n",
    "        les_y.append(sol[0])\n",
    "    return les_x,les_y\n",
    "\n",
    "les_xF,les_yF = solve_directe()\n",
    "\n",
    "plt.plot(np.degrees(les_theta_g),label = \"$\\\\theta_g$\")\n",
    "plt.plot(np.degrees(les_theta_d),label = \"$\\\\theta_d$\")\n",
    "plt.legend()"
   ]
  },
  {
   "cell_type": "code",
   "execution_count": 16,
   "id": "01645eda",
   "metadata": {},
   "outputs": [
    {
     "data": {
      "text/plain": [
       "[<matplotlib.lines.Line2D at 0x1c52930a8e0>]"
      ]
     },
     "execution_count": 16,
     "metadata": {},
     "output_type": "execute_result"
    },
    {
     "data": {
      "image/png": "[encoded data removed]",
      "text/plain": [
       "<Figure size 432x288 with 1 Axes>"
      ]
     },
     "metadata": {
      "needs_background": "light"
     },
     "output_type": "display_data"
    }
   ],
   "source": [
    "plt.plot(np.degrees(les_theta_g),label = \"$\\\\theta_g$\")\n",
    "plt.plot(np.degrees(les_theta_d),label = \"$\\\\theta_d$\")"
   ]
  },
  {
   "cell_type": "code",
   "execution_count": 17,
   "id": "535c5057",
   "metadata": {},
   "outputs": [
    {
     "ename": "SyntaxError",
     "evalue": "invalid syntax (<ipython-input-17-38d5c00019f7>, line 1)",
     "output_type": "error",
     "traceback": [
      "\u001b[1;36m  File \u001b[1;32m\"<ipython-input-17-38d5c00019f7>\"\u001b[1;36m, line \u001b[1;32m1\u001b[0m\n\u001b[1;33m    plt.plot(les_xF,label=$X_F$)\u001b[0m\n\u001b[1;37m                          ^\u001b[0m\n\u001b[1;31mSyntaxError\u001b[0m\u001b[1;31m:\u001b[0m invalid syntax\n"
     ]
    }
   ],
   "source": [
    "plt.plot(les_xF,label=\"$X_F$\")\n",
    "plt.plot(les_yF,label=\"$Y_F$\")\n",
    "plt.legend()"
   ]
  },
  {
   "cell_type": "code",
   "execution_count": null,
   "id": "ceae0f94",
   "metadata": {},
   "outputs": [],
   "source": []
  }
 ],
 "metadata": {
  "kernelspec": {
   "display_name": "Python 3",
   "language": "python",
   "name": "python3"
  },
  "language_info": {
   "codemirror_mode": {
    "name": "ipython",
    "version": 3
   },
   "file_extension": ".py",
   "mimetype": "text/x-python",
   "name": "python",
   "nbconvert_exporter": "python",
   "pygments_lexer": "ipython3",
   "version": "3.8.5"
  }
 },
 "nbformat": 4,
 "nbformat_minor": 5
}
